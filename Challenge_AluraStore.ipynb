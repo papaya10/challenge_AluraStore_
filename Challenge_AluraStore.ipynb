{
 "cells": [
  {
   "cell_type": "markdown",
   "metadata": {
    "colab_type": "text",
    "id": "view-in-github"
   },
   "source": [
    "<a href=\"https://colab.research.google.com/github/NatBiscarra/challenge_alurastore/blob/main/Challenge ETL TelecomTelecomBr.ipynb\" target=\"_parent\"><img src=\"https://colab.research.google.com/assets/colab-badge.svg\" alt=\"Open In Colab\"/></a>"
   ]
  },
  {
   "cell_type": "markdown",
   "metadata": {
    "id": "RhEdWd9YUR6H"
   },
   "source": [
    "### Importação dos dados\n",
    "\n"
   ]
  },
  {
   "cell_type": "code",
   "execution_count": 131,
   "metadata": {
    "colab": {
     "base_uri": "https://localhost:8080/",
     "height": 365
    },
    "id": "T3EvaeQ_INIL",
    "outputId": "ced88361-064a-49f1-faa1-c2add62fbf88"
   },
   "outputs": [
    {
     "data": {
      "application/vnd.google.colaboratory.intrinsic+json": {
       "summary": "{\n  \"name\": \"loja\",\n  \"rows\": 2359,\n  \"fields\": [\n    {\n      \"column\": \"Produto\",\n      \"properties\": {\n        \"dtype\": \"category\",\n        \"num_unique_values\": 51,\n        \"samples\": [\n          \"Viol\\u00e3o\",\n          \"Bola de basquete\",\n          \"Smartwatch\"\n        ],\n        \"semantic_type\": \"\",\n        \"description\": \"\"\n      }\n    },\n    {\n      \"column\": \"Categoria do Produto\",\n      \"properties\": {\n        \"dtype\": \"category\",\n        \"num_unique_values\": 8,\n        \"samples\": [\n          \"moveis\",\n          \"esporte e lazer\",\n          \"eletronicos\"\n        ],\n        \"semantic_type\": \"\",\n        \"description\": \"\"\n      }\n    },\n    {\n      \"column\": \"Pre\\u00e7o\",\n      \"properties\": {\n        \"dtype\": \"number\",\n        \"std\": 819.5827782539145,\n        \"min\": 10.07,\n        \"max\": 3969.38,\n        \"num_unique_values\": 2315,\n        \"samples\": [\n          446.11,\n          107.31,\n          65.86\n        ],\n        \"semantic_type\": \"\",\n        \"description\": \"\"\n      }\n    },\n    {\n      \"column\": \"Frete\",\n      \"properties\": {\n        \"dtype\": \"number\",\n        \"std\": 43.814183327408166,\n        \"min\": 0.0,\n        \"max\": 214.3770604781,\n        \"num_unique_values\": 2149,\n        \"samples\": [\n          83.815279607,\n          16.069664669,\n          14.0344876928\n        ],\n        \"semantic_type\": \"\",\n        \"description\": \"\"\n      }\n    },\n    {\n      \"column\": \"Data da Compra\",\n      \"properties\": {\n        \"dtype\": \"object\",\n        \"num_unique_values\": 1018,\n        \"samples\": [\n          \"15/09/2022\",\n          \"03/06/2020\",\n          \"06/11/2021\"\n        ],\n        \"semantic_type\": \"\",\n        \"description\": \"\"\n      }\n    },\n    {\n      \"column\": \"Vendedor\",\n      \"properties\": {\n        \"dtype\": \"category\",\n        \"num_unique_values\": 14,\n        \"samples\": [\n          \"Juliana Costa\",\n          \"Mariana Ferreira\",\n          \"Pedro Gomes\"\n        ],\n        \"semantic_type\": \"\",\n        \"description\": \"\"\n      }\n    },\n    {\n      \"column\": \"Local da compra\",\n      \"properties\": {\n        \"dtype\": \"category\",\n        \"num_unique_values\": 26,\n        \"samples\": [\n          \"TO\",\n          \"RN\",\n          \"SP\"\n        ],\n        \"semantic_type\": \"\",\n        \"description\": \"\"\n      }\n    },\n    {\n      \"column\": \"Avalia\\u00e7\\u00e3o da compra\",\n      \"properties\": {\n        \"dtype\": \"number\",\n        \"std\": 1,\n        \"min\": 1,\n        \"max\": 5,\n        \"num_unique_values\": 5,\n        \"samples\": [\n          1,\n          2,\n          5\n        ],\n        \"semantic_type\": \"\",\n        \"description\": \"\"\n      }\n    },\n    {\n      \"column\": \"Tipo de pagamento\",\n      \"properties\": {\n        \"dtype\": \"category\",\n        \"num_unique_values\": 4,\n        \"samples\": [\n          \"boleto\",\n          \"cartao_debito\",\n          \"cartao_credito\"\n        ],\n        \"semantic_type\": \"\",\n        \"description\": \"\"\n      }\n    },\n    {\n      \"column\": \"Quantidade de parcelas\",\n      \"properties\": {\n        \"dtype\": \"number\",\n        \"std\": 2,\n        \"min\": 1,\n        \"max\": 24,\n        \"num_unique_values\": 15,\n        \"samples\": [\n          7,\n          14,\n          8\n        ],\n        \"semantic_type\": \"\",\n        \"description\": \"\"\n      }\n    },\n    {\n      \"column\": \"lat\",\n      \"properties\": {\n        \"dtype\": \"number\",\n        \"std\": 5.372399916530833,\n        \"min\": -30.17,\n        \"max\": 1.41,\n        \"num_unique_values\": 26,\n        \"samples\": [\n          -9.46,\n          -5.81,\n          -22.19\n        ],\n        \"semantic_type\": \"\",\n        \"description\": \"\"\n      }\n    },\n    {\n      \"column\": \"lon\",\n      \"properties\": {\n        \"dtype\": \"number\",\n        \"std\": 4.183180020544179,\n        \"min\": -70.55,\n        \"max\": -36.59,\n        \"num_unique_values\": 26,\n        \"samples\": [\n          -48.26,\n          -36.59,\n          -48.79\n        ],\n        \"semantic_type\": \"\",\n        \"description\": \"\"\n      }\n    }\n  ]\n}",
       "type": "dataframe",
       "variable_name": "loja"
      },
      "text/html": [
       "\n",
       "  <div id=\"df-5e17e136-bc17-4dc1-b58b-eb2a0bd1768c\" class=\"colab-df-container\">\n",
       "    <div>\n",
       "<style scoped>\n",
       "    .dataframe tbody tr th:only-of-type {\n",
       "        vertical-align: middle;\n",
       "    }\n",
       "\n",
       "    .dataframe tbody tr th {\n",
       "        vertical-align: top;\n",
       "    }\n",
       "\n",
       "    .dataframe thead th {\n",
       "        text-align: right;\n",
       "    }\n",
       "</style>\n",
       "<table border=\"1\" class=\"dataframe\">\n",
       "  <thead>\n",
       "    <tr style=\"text-align: right;\">\n",
       "      <th></th>\n",
       "      <th>Produto</th>\n",
       "      <th>Categoria do Produto</th>\n",
       "      <th>Preço</th>\n",
       "      <th>Frete</th>\n",
       "      <th>Data da Compra</th>\n",
       "      <th>Vendedor</th>\n",
       "      <th>Local da compra</th>\n",
       "      <th>Avaliação da compra</th>\n",
       "      <th>Tipo de pagamento</th>\n",
       "      <th>Quantidade de parcelas</th>\n",
       "      <th>lat</th>\n",
       "      <th>lon</th>\n",
       "    </tr>\n",
       "  </thead>\n",
       "  <tbody>\n",
       "    <tr>\n",
       "      <th>0</th>\n",
       "      <td>Assistente virtual</td>\n",
       "      <td>eletronicos</td>\n",
       "      <td>219.08</td>\n",
       "      <td>9.249790</td>\n",
       "      <td>16/01/2021</td>\n",
       "      <td>Pedro Gomes</td>\n",
       "      <td>SP</td>\n",
       "      <td>4</td>\n",
       "      <td>cartao_credito</td>\n",
       "      <td>8</td>\n",
       "      <td>-22.19</td>\n",
       "      <td>-48.79</td>\n",
       "    </tr>\n",
       "    <tr>\n",
       "      <th>1</th>\n",
       "      <td>Mesa de jantar</td>\n",
       "      <td>moveis</td>\n",
       "      <td>256.35</td>\n",
       "      <td>11.234305</td>\n",
       "      <td>18/05/2022</td>\n",
       "      <td>Beatriz Moraes</td>\n",
       "      <td>RJ</td>\n",
       "      <td>1</td>\n",
       "      <td>cartao_credito</td>\n",
       "      <td>4</td>\n",
       "      <td>-22.25</td>\n",
       "      <td>-42.66</td>\n",
       "    </tr>\n",
       "    <tr>\n",
       "      <th>2</th>\n",
       "      <td>Jogo de tabuleiro</td>\n",
       "      <td>brinquedos</td>\n",
       "      <td>279.51</td>\n",
       "      <td>21.262681</td>\n",
       "      <td>15/03/2021</td>\n",
       "      <td>João Souza</td>\n",
       "      <td>DF</td>\n",
       "      <td>1</td>\n",
       "      <td>cartao_credito</td>\n",
       "      <td>1</td>\n",
       "      <td>-15.83</td>\n",
       "      <td>-47.86</td>\n",
       "    </tr>\n",
       "    <tr>\n",
       "      <th>3</th>\n",
       "      <td>Micro-ondas</td>\n",
       "      <td>eletrodomesticos</td>\n",
       "      <td>1009.99</td>\n",
       "      <td>54.667344</td>\n",
       "      <td>03/05/2022</td>\n",
       "      <td>João Souza</td>\n",
       "      <td>RS</td>\n",
       "      <td>4</td>\n",
       "      <td>boleto</td>\n",
       "      <td>1</td>\n",
       "      <td>-30.17</td>\n",
       "      <td>-53.50</td>\n",
       "    </tr>\n",
       "    <tr>\n",
       "      <th>4</th>\n",
       "      <td>Cadeira de escritório</td>\n",
       "      <td>moveis</td>\n",
       "      <td>446.99</td>\n",
       "      <td>26.964689</td>\n",
       "      <td>07/11/2020</td>\n",
       "      <td>Larissa Alves</td>\n",
       "      <td>MG</td>\n",
       "      <td>5</td>\n",
       "      <td>boleto</td>\n",
       "      <td>1</td>\n",
       "      <td>-18.10</td>\n",
       "      <td>-44.38</td>\n",
       "    </tr>\n",
       "  </tbody>\n",
       "</table>\n",
       "</div>\n",
       "    <div class=\"colab-df-buttons\">\n",
       "\n",
       "  <div class=\"colab-df-container\">\n",
       "    <button class=\"colab-df-convert\" onclick=\"convertToInteractive('df-5e17e136-bc17-4dc1-b58b-eb2a0bd1768c')\"\n",
       "            title=\"Convert this dataframe to an interactive table.\"\n",
       "            style=\"display:none;\">\n",
       "\n",
       "  <svg xmlns=\"http://www.w3.org/2000/svg\" height=\"24px\" viewBox=\"0 -960 960 960\">\n",
       "    <path d=\"M120-120v-720h720v720H120Zm60-500h600v-160H180v160Zm220 220h160v-160H400v160Zm0 220h160v-160H400v160ZM180-400h160v-160H180v160Zm440 0h160v-160H620v160ZM180-180h160v-160H180v160Zm440 0h160v-160H620v160Z\"/>\n",
       "  </svg>\n",
       "    </button>\n",
       "\n",
       "  <style>\n",
       "    .colab-df-container {\n",
       "      display:flex;\n",
       "      gap: 12px;\n",
       "    }\n",
       "\n",
       "    .colab-df-convert {\n",
       "      background-color: #E8F0FE;\n",
       "      border: none;\n",
       "      border-radius: 50%;\n",
       "      cursor: pointer;\n",
       "      display: none;\n",
       "      fill: #1967D2;\n",
       "      height: 32px;\n",
       "      padding: 0 0 0 0;\n",
       "      width: 32px;\n",
       "    }\n",
       "\n",
       "    .colab-df-convert:hover {\n",
       "      background-color: #E2EBFA;\n",
       "      box-shadow: 0px 1px 2px rgba(60, 64, 67, 0.3), 0px 1px 3px 1px rgba(60, 64, 67, 0.15);\n",
       "      fill: #174EA6;\n",
       "    }\n",
       "\n",
       "    .colab-df-buttons div {\n",
       "      margin-bottom: 4px;\n",
       "    }\n",
       "\n",
       "    [theme=dark] .colab-df-convert {\n",
       "      background-color: #3B4455;\n",
       "      fill: #D2E3FC;\n",
       "    }\n",
       "\n",
       "    [theme=dark] .colab-df-convert:hover {\n",
       "      background-color: #434B5C;\n",
       "      box-shadow: 0px 1px 3px 1px rgba(0, 0, 0, 0.15);\n",
       "      filter: drop-shadow(0px 1px 2px rgba(0, 0, 0, 0.3));\n",
       "      fill: #FFFFFF;\n",
       "    }\n",
       "  </style>\n",
       "\n",
       "    <script>\n",
       "      const buttonEl =\n",
       "        document.querySelector('#df-5e17e136-bc17-4dc1-b58b-eb2a0bd1768c button.colab-df-convert');\n",
       "      buttonEl.style.display =\n",
       "        google.colab.kernel.accessAllowed ? 'block' : 'none';\n",
       "\n",
       "      async function convertToInteractive(key) {\n",
       "        const element = document.querySelector('#df-5e17e136-bc17-4dc1-b58b-eb2a0bd1768c');\n",
       "        const dataTable =\n",
       "          await google.colab.kernel.invokeFunction('convertToInteractive',\n",
       "                                                    [key], {});\n",
       "        if (!dataTable) return;\n",
       "\n",
       "        const docLinkHtml = 'Like what you see? Visit the ' +\n",
       "          '<a target=\"_blank\" href=https://colab.research.google.com/notebooks/data_table.ipynb>data table notebook</a>'\n",
       "          + ' to learn more about interactive tables.';\n",
       "        element.innerHTML = '';\n",
       "        dataTable['output_type'] = 'display_data';\n",
       "        await google.colab.output.renderOutput(dataTable, element);\n",
       "        const docLink = document.createElement('div');\n",
       "        docLink.innerHTML = docLinkHtml;\n",
       "        element.appendChild(docLink);\n",
       "      }\n",
       "    </script>\n",
       "  </div>\n",
       "\n",
       "\n",
       "    <div id=\"df-616ae90c-79e6-4460-b0df-f9fddb2f3020\">\n",
       "      <button class=\"colab-df-quickchart\" onclick=\"quickchart('df-616ae90c-79e6-4460-b0df-f9fddb2f3020')\"\n",
       "                title=\"Suggest charts\"\n",
       "                style=\"display:none;\">\n",
       "\n",
       "<svg xmlns=\"http://www.w3.org/2000/svg\" height=\"24px\"viewBox=\"0 0 24 24\"\n",
       "     width=\"24px\">\n",
       "    <g>\n",
       "        <path d=\"M19 3H5c-1.1 0-2 .9-2 2v14c0 1.1.9 2 2 2h14c1.1 0 2-.9 2-2V5c0-1.1-.9-2-2-2zM9 17H7v-7h2v7zm4 0h-2V7h2v10zm4 0h-2v-4h2v4z\"/>\n",
       "    </g>\n",
       "</svg>\n",
       "      </button>\n",
       "\n",
       "<style>\n",
       "  .colab-df-quickchart {\n",
       "      --bg-color: #E8F0FE;\n",
       "      --fill-color: #1967D2;\n",
       "      --hover-bg-color: #E2EBFA;\n",
       "      --hover-fill-color: #174EA6;\n",
       "      --disabled-fill-color: #AAA;\n",
       "      --disabled-bg-color: #DDD;\n",
       "  }\n",
       "\n",
       "  [theme=dark] .colab-df-quickchart {\n",
       "      --bg-color: #3B4455;\n",
       "      --fill-color: #D2E3FC;\n",
       "      --hover-bg-color: #434B5C;\n",
       "      --hover-fill-color: #FFFFFF;\n",
       "      --disabled-bg-color: #3B4455;\n",
       "      --disabled-fill-color: #666;\n",
       "  }\n",
       "\n",
       "  .colab-df-quickchart {\n",
       "    background-color: var(--bg-color);\n",
       "    border: none;\n",
       "    border-radius: 50%;\n",
       "    cursor: pointer;\n",
       "    display: none;\n",
       "    fill: var(--fill-color);\n",
       "    height: 32px;\n",
       "    padding: 0;\n",
       "    width: 32px;\n",
       "  }\n",
       "\n",
       "  .colab-df-quickchart:hover {\n",
       "    background-color: var(--hover-bg-color);\n",
       "    box-shadow: 0 1px 2px rgba(60, 64, 67, 0.3), 0 1px 3px 1px rgba(60, 64, 67, 0.15);\n",
       "    fill: var(--button-hover-fill-color);\n",
       "  }\n",
       "\n",
       "  .colab-df-quickchart-complete:disabled,\n",
       "  .colab-df-quickchart-complete:disabled:hover {\n",
       "    background-color: var(--disabled-bg-color);\n",
       "    fill: var(--disabled-fill-color);\n",
       "    box-shadow: none;\n",
       "  }\n",
       "\n",
       "  .colab-df-spinner {\n",
       "    border: 2px solid var(--fill-color);\n",
       "    border-color: transparent;\n",
       "    border-bottom-color: var(--fill-color);\n",
       "    animation:\n",
       "      spin 1s steps(1) infinite;\n",
       "  }\n",
       "\n",
       "  @keyframes spin {\n",
       "    0% {\n",
       "      border-color: transparent;\n",
       "      border-bottom-color: var(--fill-color);\n",
       "      border-left-color: var(--fill-color);\n",
       "    }\n",
       "    20% {\n",
       "      border-color: transparent;\n",
       "      border-left-color: var(--fill-color);\n",
       "      border-top-color: var(--fill-color);\n",
       "    }\n",
       "    30% {\n",
       "      border-color: transparent;\n",
       "      border-left-color: var(--fill-color);\n",
       "      border-top-color: var(--fill-color);\n",
       "      border-right-color: var(--fill-color);\n",
       "    }\n",
       "    40% {\n",
       "      border-color: transparent;\n",
       "      border-right-color: var(--fill-color);\n",
       "      border-top-color: var(--fill-color);\n",
       "    }\n",
       "    60% {\n",
       "      border-color: transparent;\n",
       "      border-right-color: var(--fill-color);\n",
       "    }\n",
       "    80% {\n",
       "      border-color: transparent;\n",
       "      border-right-color: var(--fill-color);\n",
       "      border-bottom-color: var(--fill-color);\n",
       "    }\n",
       "    90% {\n",
       "      border-color: transparent;\n",
       "      border-bottom-color: var(--fill-color);\n",
       "    }\n",
       "  }\n",
       "</style>\n",
       "\n",
       "      <script>\n",
       "        async function quickchart(key) {\n",
       "          const quickchartButtonEl =\n",
       "            document.querySelector('#' + key + ' button');\n",
       "          quickchartButtonEl.disabled = true;  // To prevent multiple clicks.\n",
       "          quickchartButtonEl.classList.add('colab-df-spinner');\n",
       "          try {\n",
       "            const charts = await google.colab.kernel.invokeFunction(\n",
       "                'suggestCharts', [key], {});\n",
       "          } catch (error) {\n",
       "            console.error('Error during call to suggestCharts:', error);\n",
       "          }\n",
       "          quickchartButtonEl.classList.remove('colab-df-spinner');\n",
       "          quickchartButtonEl.classList.add('colab-df-quickchart-complete');\n",
       "        }\n",
       "        (() => {\n",
       "          let quickchartButtonEl =\n",
       "            document.querySelector('#df-616ae90c-79e6-4460-b0df-f9fddb2f3020 button');\n",
       "          quickchartButtonEl.style.display =\n",
       "            google.colab.kernel.accessAllowed ? 'block' : 'none';\n",
       "        })();\n",
       "      </script>\n",
       "    </div>\n",
       "\n",
       "    </div>\n",
       "  </div>\n"
      ],
      "text/plain": [
       "                 Produto Categoria do Produto    Preço      Frete  \\\n",
       "0     Assistente virtual          eletronicos   219.08   9.249790   \n",
       "1         Mesa de jantar               moveis   256.35  11.234305   \n",
       "2      Jogo de tabuleiro           brinquedos   279.51  21.262681   \n",
       "3            Micro-ondas     eletrodomesticos  1009.99  54.667344   \n",
       "4  Cadeira de escritório               moveis   446.99  26.964689   \n",
       "\n",
       "  Data da Compra        Vendedor Local da compra  Avaliação da compra  \\\n",
       "0     16/01/2021     Pedro Gomes              SP                    4   \n",
       "1     18/05/2022  Beatriz Moraes              RJ                    1   \n",
       "2     15/03/2021      João Souza              DF                    1   \n",
       "3     03/05/2022      João Souza              RS                    4   \n",
       "4     07/11/2020   Larissa Alves              MG                    5   \n",
       "\n",
       "  Tipo de pagamento  Quantidade de parcelas    lat    lon  \n",
       "0    cartao_credito                       8 -22.19 -48.79  \n",
       "1    cartao_credito                       4 -22.25 -42.66  \n",
       "2    cartao_credito                       1 -15.83 -47.86  \n",
       "3            boleto                       1 -30.17 -53.50  \n",
       "4            boleto                       1 -18.10 -44.38  "
      ]
     },
     "execution_count": 131,
     "metadata": {},
     "output_type": "execute_result"
    }
   ],
   "source": [
    "import pandas as pd\n",
    "\n",
    "url = \"https://raw.githubusercontent.com/alura-es-cursos/challenge1-data-science/refs/heads/main/base-de-dados-challenge-1/loja_1.csv\"\n",
    "url2 = \"https://raw.githubusercontent.com/alura-es-cursos/challenge1-data-science/refs/heads/main/base-de-dados-challenge-1/loja_2.csv\"\n",
    "url3 = \"https://raw.githubusercontent.com/alura-es-cursos/challenge1-data-science/refs/heads/main/base-de-dados-challenge-1/loja_3.csv\"\n",
    "url4 = \"https://raw.githubusercontent.com/alura-es-cursos/challenge1-data-science/refs/heads/main/base-de-dados-challenge-1/loja_4.csv\"\n",
    "\n",
    "loja = pd.read_csv(url)\n",
    "loja2 = pd.read_csv(url2)\n",
    "loja3 = pd.read_csv(url3)\n",
    "loja4 = pd.read_csv(url4)\n",
    "\n",
    "loja.head()\n"
   ]
  },
  {
   "cell_type": "markdown",
   "metadata": {
    "id": "X62IW3KFUIYm"
   },
   "source": [
    "#1. Análise do faturamento\n"
   ]
  },
  {
   "cell_type": "markdown",
   "metadata": {
    "id": "fLATHGieyAuV"
   },
   "source": [
    "Análise realizada para descobrir as métricas de faturamento das quatro lojas da rede Challenge ETL Telecom Telecom."
   ]
  },
  {
   "cell_type": "code",
   "execution_count": 87,
   "metadata": {
    "colab": {
     "base_uri": "https://localhost:8080/"
    },
    "id": "xykobSftV64I",
    "outputId": "aafc0cac-b138-494c-8e5e-a6be0bd77256"
   },
   "outputs": [
    {
     "name": "stdout",
     "output_type": "stream",
     "text": [
      "Faturamento da Loja 1: R$ 1,534,509.12\n",
      "Faturamento da Loja 2: R$ 1,488,459.06\n",
      "Faturamento da Loja 3: R$ 1,464,025.03\n",
      "Faturamento da Loja 4: R$ 1,384,497.58\n",
      "\n",
      "Faturamento Total: R$ 5,871,490.79\n"
     ]
    }
   ],
   "source": [
    "lojas = [loja, loja2, loja3, loja4]                          #Lista \"lojas\" com as quatro variáveis\n",
    "faturamento_total = 0                                        #Declaração de variável para armazenar o faturamento total\n",
    "\n",
    "#Laço para percorrer a lista e retornar tuplas índice e valor.\n",
    "for i, l in enumerate(lojas, start=1):                       # \"start=1\" para iniciar na loja 1\n",
    "    faturamento = sum(l.Preço)                               #Atribui à variável \"faturamento\" a soma de todos os valores na coluna preço\n",
    "    print(f'Faturamento da Loja {i}: R$ {faturamento:,.2f}') #Imprime o resultado no console\n",
    "    faturamento_total += faturamento\n",
    "\n",
    "#Imprime o faturamento total no console\n",
    "print(f'\\nFaturamento Total: R$ {faturamento_total:,.2f}')\n",
    "\n",
    "#Atribui às variáveis \"faturamento_loja\" a soma dos valores da coluna preço\n",
    "faturamento_loja = sum(loja.Preço)\n",
    "faturamento_loja2 = sum(loja2.Preço)\n",
    "faturamento_loja3 = sum(loja3.Preço)\n",
    "faturamento_loja4 = sum(loja4.Preço)"
   ]
  },
  {
   "cell_type": "markdown",
   "metadata": {
    "id": "083SPEsX2g1T"
   },
   "source": [
    "Gráfico demonstrativo de faturamento da rede Challenge ETL Telecom Telecom."
   ]
  },
  {
   "cell_type": "code",
   "execution_count": 88,
   "metadata": {
    "colab": {
     "base_uri": "https://localhost:8080/",
     "height": 0
    },
    "id": "KDyr8E71V3m-",
    "outputId": "aaad20ad-196b-4988-95bf-ef7b43accee2"
   },
   "outputs": [
    {
     "data": {
      "image/png": "[encoded data removed]",
      "text/plain": [
       "<Figure size 1000x600 with 1 Axes>"
      ]
     },
     "metadata": {},
     "output_type": "display_data"
    }
   ],
   "source": [
    "import matplotlib.pyplot as plt        #Importa a biblioteca matplotlib (gráficos)\n",
    "import pandas as pd                    #Importa a biblioteca pandas (manipulação de dados)\n",
    "\n",
    "#Define listas com nome e valores de faturamento das lojas\n",
    "lojas_nomes = ['Loja 1', 'Loja 2', 'Loja 3', 'Loja 4']\n",
    "faturamentos = [faturamento_loja, faturamento_loja2, faturamento_loja3, faturamento_loja4]\n",
    "\n",
    "#Cria um dataframe com duas colunas (loja e faturamento)\n",
    "df_faturamento = pd.DataFrame({'Loja': lojas_nomes, 'Faturamento': faturamentos})\n",
    "\n",
    "#Define um gráfico de barra para exibir \"loja\" e \"faturamento\"\n",
    "ax = df_faturamento.plot(kind='bar', x='Loja', y='Faturamento', figsize=(10, 6), legend=False, color = '#147990')\n",
    "\n",
    "#Laço para adicionar os rótulos de valor em cada barra\n",
    "for i, valor in enumerate(df_faturamento['Faturamento']):\n",
    "    ax.text(i, valor + 500, f'R${valor:,.0f}', ha='center')\n",
    "\n",
    "#Estiliza os títulos do gráfico\n",
    "ax.set_title('Faturamento por Loja', fontsize=14)\n",
    "ax.set_xlabel('Lojas', fontsize=12)\n",
    "ax.set_ylabel('Faturamento (R$)')\n",
    "\n",
    "#Rótulo exibido na horizontal\n",
    "ax.set_xticklabels(df_faturamento['Loja'], rotation=0)\n",
    "\n",
    "#Desativa visualização do eixo y\n",
    "ax.yaxis.set_visible(False)\n",
    "ax.spines[['left', 'right']].set_visible(False)\n",
    "\n",
    "#Exibição do gráfico no console\n",
    "plt.tight_layout()\n",
    "plt.show()"
   ]
  },
  {
   "cell_type": "markdown",
   "metadata": {
    "id": "2V_vcAPzWZmR"
   },
   "source": [
    "# 2. Vendas por Categoria\n"
   ]
  },
  {
   "cell_type": "markdown",
   "metadata": {
    "id": "0HCWWGapvH6M"
   },
   "source": [
    "Análise de performance para cada categoria em cada loja."
   ]
  },
  {
   "cell_type": "code",
   "execution_count": 89,
   "metadata": {
    "colab": {
     "base_uri": "https://localhost:8080/"
    },
    "id": "A34YupIuYhfF",
    "outputId": "fff415e4-d8ba-4c99-b5a0-328645e81bdd"
   },
   "outputs": [
    {
     "name": "stdout",
     "output_type": "stream",
     "text": [
      "                       Loja 1  Loja 2  Loja 3  Loja 4\n",
      "Categoria do Produto                                 \n",
      "brinquedos                324     313     315     338\n",
      "eletrodomesticos          312     305     278     254\n",
      "eletronicos               448     422     451     451\n",
      "esporte e lazer           284     275     277     277\n",
      "instrumentos musicais     182     224     177     170\n",
      "livros                    173     197     185     187\n",
      "moveis                    465     442     499     480\n",
      "utilidades domesticas     171     181     177     201\n"
     ]
    }
   ],
   "source": [
    "#Cria listas com dados e nome das lojas\n",
    "lojas = [loja, loja2, loja3, loja4]\n",
    "nomes = ['Loja 1', 'Loja 2', 'Loja 3', 'Loja 4']\n",
    "\n",
    "vendas_por_categoria = [\n",
    "    l.groupby('Categoria do Produto').size().rename(n) #Agrupa vendas por categoria; .size() contabiliza a qtd de vendas em cada categoria; .rename(n) renomeia os resultados com nome da loja\n",
    "    for l, n in zip(lojas, nomes)] #Laço para percorrer duas listas ao mesmo tempo\n",
    "\n",
    "#Concatena em um único dataframe (axis=1 cria colunas)\n",
    "vendas_por_categoria = pd.concat(vendas_por_categoria, axis=1)\n",
    "vendas_por_categoria.columns = nomes #Renomeia as colunas com os nomes das lojas\n",
    "\n",
    "#Exibe no console o resultado\n",
    "print(vendas_por_categoria)"
   ]
  },
  {
   "cell_type": "markdown",
   "metadata": {
    "id": "-qjs5qRa3BKM"
   },
   "source": [
    "Gráficos demonstrativos das vendas por categoria."
   ]
  },
  {
   "cell_type": "code",
   "execution_count": 118,
   "metadata": {
    "colab": {
     "base_uri": "https://localhost:8080/",
     "height": 325
    },
    "id": "yZR6cOjXYSk1",
    "outputId": "fe1d5174-0361-42c6-f0ce-45bdd2bf0419"
   },
   "outputs": [
    {
     "data": {
      "image/png": "[encoded data removed]",
      "text/plain": [
       "<Figure size 1200x600 with 1 Axes>"
      ]
     },
     "metadata": {},
     "output_type": "display_data"
    }
   ],
   "source": [
    "#Transposição para que a coluna \"loja\" vire linha\n",
    "grafico_plot = vendas_por_categoria.T\n",
    "\n",
    "cores = ['#6F0AC2', '#0B2E59', '#147990', '#0D6759', '#448D38', '#7AB317', '#A0C55F', '#535837']\n",
    "\n",
    "#Criação do gráfico em barras\n",
    "grafico_plot.plot(kind='bar', figsize=(12, 6), color=cores[:grafico_plot.shape[1]])\n",
    "\n",
    "#Título de rótulos\n",
    "plt.title('Vendas por Loja e Categoria')\n",
    "plt.ylabel('Quantidade de Produtos')\n",
    "plt.xlabel('Lojas')\n",
    "plt.xticks(rotation=0)\n",
    "\n",
    "#Legenda do gráfico\n",
    "plt.legend(title='Legenda', bbox_to_anchor=(0.5, -0.2), loc='upper center', ncol=3, fontsize=10, labelcolor = 'white')\n",
    "\n",
    "#Bordas do gráfico\n",
    "plt.gca().spines['top'].set_visible(False)\n",
    "plt.gca().spines['right'].set_visible(False)\n",
    "plt.gca().spines['bottom'].set_visible(True)\n",
    "plt.gca().spines['left'].set_visible(True)\n",
    "\n",
    "#Exibição do gráfico\n",
    "plt.tight_layout()\n",
    "plt.show()"
   ]
  },
  {
   "cell_type": "markdown",
   "metadata": {
    "id": "Rq6tU_xSY3jk"
   },
   "source": [
    "# 3. Média de Avaliação das Lojas"
   ]
  },
  {
   "cell_type": "markdown",
   "metadata": {
    "id": "06E20CnWIKxg"
   },
   "source": [
    "Análise realizada com base nas avaliações recebidas por cada loja."
   ]
  },
  {
   "cell_type": "code",
   "execution_count": 91,
   "metadata": {
    "colab": {
     "base_uri": "https://localhost:8080/"
    },
    "id": "bh3jjjJwY5MU",
    "outputId": "5bf8be88-df0f-4c15-d1dd-bd2f848573d9"
   },
   "outputs": [
    {
     "name": "stdout",
     "output_type": "stream",
     "text": [
      "Avaliação da loja1: 3.98\n",
      "Avaliação da loja2: 4.04\n",
      "Avaliação da loja3: 4.05\n",
      "Avaliação da loja4: 4.0\n"
     ]
    }
   ],
   "source": [
    "lojas = [loja, loja2, loja3, loja4]\n",
    "\n",
    "for i, l in enumerate(lojas, start=1):\n",
    "    avaliacao = round(sum(l[\"Avaliação da compra\"]) / len(l[\"Avaliação da compra\"]), 2)\n",
    "    print(f'Avaliação da loja{i}:', avaliacao)"
   ]
  },
  {
   "cell_type": "code",
   "execution_count": 143,
   "metadata": {
    "colab": {
     "base_uri": "https://localhost:8080/",
     "height": 446
    },
    "id": "I0KkjPoTY88F",
    "outputId": "c3f9ada1-545d-4363-b7ef-6e3adb398169"
   },
   "outputs": [
    {
     "data": {
      "image/png": "[encoded data removed]",
      "text/plain": [
       "<Figure size 800x500 with 1 Axes>"
      ]
     },
     "metadata": {},
     "output_type": "display_data"
    }
   ],
   "source": [
    "#Importa a biblioteca matplotlib\n",
    "import matplotlib.pyplot as plt\n",
    "\n",
    "lojas = ['Loja 1', 'Loja 2', 'Loja 3', 'Loja 4']\n",
    "medias = [3.98, 4.04, 4.05, 4.0]\n",
    "\n",
    "#Atribui uma cor diferente para a menor média\n",
    "pior_media = min(medias)\n",
    "cores = ['#7AB317' if media != pior_media else '#0D6759' for media in medias]\n",
    "\n",
    "#Criação do gráfico\n",
    "plt.figure(figsize=(8, 5))\n",
    "plt.bar(lojas, medias, color=cores)\n",
    "\n",
    "#Títulos e rótulos\n",
    "plt.title('Média de Avaliação por Loja')\n",
    "plt.ylabel('Média de Avaliação')\n",
    "plt.ylim(0, 5)\n",
    "\n",
    "for i, media in enumerate(medias):\n",
    "    plt.text(i, media, f'{media}', ha='center', va='bottom', fontsize=12)\n",
    "\n",
    "#Bordas do gráfico\n",
    "plt.gca().spines['top'].set_visible(False)\n",
    "plt.gca().spines['right'].set_visible(False)\n",
    "plt.gca().spines['bottom'].set_visible(True)\n",
    "plt.gca().spines['left'].set_visible(True)\n",
    "\n",
    "plt.show()\n"
   ]
  },
  {
   "cell_type": "markdown",
   "metadata": {
    "id": "DmNp1KPBZCm-"
   },
   "source": [
    "# 4. Produtos Mais e Menos Vendidos"
   ]
  },
  {
   "cell_type": "markdown",
   "metadata": {
    "id": "xCybliNFR_y5"
   },
   "source": [
    "Análise realizada para verificar quais são com maior número de compras e os produtos menos desejados pelos clientes."
   ]
  },
  {
   "cell_type": "code",
   "execution_count": 93,
   "metadata": {
    "colab": {
     "base_uri": "https://localhost:8080/"
    },
    "id": "qoyjqijQZHfF",
    "outputId": "295bc201-15ad-44ab-be5d-c5b5c6b4dec3"
   },
   "outputs": [
    {
     "name": "stdout",
     "output_type": "stream",
     "text": [
      "LOJA 1\n",
      "\n",
      "Produtos mais vendidos:\n",
      "\n",
      "           Produto  Quantidade\n",
      "Secadora de roupas         214\n",
      "     TV Led UHD 4K         196\n",
      "            Cômoda         188\n",
      "\n",
      "Produtos menos vendidos:\n",
      "\n",
      "       Produto  Quantidade\n",
      "Dinossauro Rex          94\n",
      "       Mochila          90\n",
      "  Celular ABXY          78\n",
      "-------------------------------------\n",
      "\n",
      "LOJA 2\n",
      "\n",
      "Produtos mais vendidos:\n",
      "\n",
      "                 Produto  Quantidade\n",
      "Iniciando em programação         223\n",
      "        Celular Plus X42         195\n",
      "                  Violão         183\n",
      "\n",
      "Produtos menos vendidos:\n",
      "\n",
      "       Produto  Quantidade\n",
      "     Bicicleta          98\n",
      " Jogo de copos          98\n",
      "Mesa de jantar          89\n",
      "-------------------------------------\n",
      "\n",
      "LOJA 3\n",
      "\n",
      "Produtos mais vendidos:\n",
      "\n",
      "          Produto  Quantidade\n",
      "        Bicicleta         191\n",
      "            Fogão         182\n",
      "Jogo de tabuleiro         181\n",
      "\n",
      "Produtos menos vendidos:\n",
      "\n",
      "      Produto  Quantidade\n",
      "     Guitarra         100\n",
      "   Smartwatch         100\n",
      "TV Led UHD 4K          94\n",
      "-------------------------------------\n",
      "\n",
      "LOJA 4\n",
      "\n",
      "Produtos mais vendidos:\n",
      "\n",
      "                Produto  Quantidade\n",
      "Dashboards com Power BI         196\n",
      "               Cama box         195\n",
      "               Faqueiro         183\n",
      "\n",
      "Produtos menos vendidos:\n",
      "\n",
      "      Produto  Quantidade\n",
      "     Guitarra          97\n",
      "   Smartwatch          93\n",
      "Guarda roupas          88\n",
      "-------------------------------------\n",
      "\n"
     ]
    }
   ],
   "source": [
    "#Cria um dataframe com o nome dos produtos e a soma das parcelas vendidas\n",
    "produtos_loja1 = loja.groupby(\"Produto\")[\"Quantidade de parcelas\"].sum().reset_index(name=\"Quantidade\")\n",
    "#Ordena o dataframe de menor para maior quantidade vendida\n",
    "produtos_loja1 = produtos_loja1.sort_values(by=\"Quantidade\", ascending=False)\n",
    "\n",
    "produtos_loja2 = loja2.groupby(\"Produto\")[\"Quantidade de parcelas\"].sum().reset_index(name=\"Quantidade\")\n",
    "produtos_loja2 = produtos_loja2.sort_values(by=\"Quantidade\", ascending=False)\n",
    "\n",
    "produtos_loja3 = loja3.groupby(\"Produto\")[\"Quantidade de parcelas\"].sum().reset_index(name=\"Quantidade\")\n",
    "produtos_loja3 = produtos_loja3.sort_values(by=\"Quantidade\", ascending=False)\n",
    "\n",
    "produtos_loja4 = loja4.groupby(\"Produto\")[\"Quantidade de parcelas\"].sum().reset_index(name=\"Quantidade\")\n",
    "produtos_loja4 = produtos_loja4.sort_values(by=\"Quantidade\", ascending=False)\n",
    "\n",
    "#Exibe no console os 3 produtos mais e menos vendidos para cada loja\n",
    "print(\"LOJA 1\\n\")\n",
    "print(\"Produtos mais vendidos:\\n\")\n",
    "print(produtos_loja1.head(3).to_string(index=False))\n",
    "print(\"\\nProdutos menos vendidos:\\n\")\n",
    "print(produtos_loja1.tail(3).to_string(index=False))\n",
    "print(\"-------------------------------------\\n\")\n",
    "\n",
    "print(\"LOJA 2\\n\")\n",
    "print(\"Produtos mais vendidos:\\n\")\n",
    "print(produtos_loja2.head(3).to_string(index=False))\n",
    "print(\"\\nProdutos menos vendidos:\\n\")\n",
    "print(produtos_loja2.tail(3).to_string(index=False))\n",
    "print(\"-------------------------------------\\n\")\n",
    "\n",
    "print(\"LOJA 3\\n\")\n",
    "print(\"Produtos mais vendidos:\\n\")\n",
    "print(produtos_loja3.head(3).to_string(index=False))\n",
    "print(\"\\nProdutos menos vendidos:\\n\")\n",
    "print(produtos_loja3.tail(3).to_string(index=False))\n",
    "print(\"-------------------------------------\\n\")\n",
    "\n",
    "print(\"LOJA 4\\n\")\n",
    "print(\"Produtos mais vendidos:\\n\")\n",
    "print(produtos_loja4.head(3).to_string(index=False))\n",
    "print(\"\\nProdutos menos vendidos:\\n\")\n",
    "print(produtos_loja4.tail(3).to_string(index=False))\n",
    "print(\"-------------------------------------\\n\")"
   ]
  },
  {
   "cell_type": "code",
   "execution_count": 128,
   "metadata": {
    "colab": {
     "base_uri": "https://localhost:8080/",
     "height": 524
    },
    "id": "0Sw3sd4IZIGW",
    "outputId": "c7123ee6-67e4-4308-bcb0-3c9147f7a0c0"
   },
   "outputs": [
    {
     "data": {
      "image/png": "[encoded data removed]",
      "text/plain": [
       "<Figure size 1400x1000 with 4 Axes>"
      ]
     },
     "metadata": {},
     "output_type": "display_data"
    }
   ],
   "source": [
    "#Importar bibliotecas matplotlib e pandas\n",
    "import matplotlib.pyplot as plt\n",
    "import pandas as pd\n",
    "import matplotlib.patches as mpatches\n",
    "\n",
    "lojas = ['Loja 1', 'Loja 2', 'Loja 3', 'Loja 4']\n",
    "\n",
    "#Cria um dicionário para armazenar chave-valor\n",
    "produtos_por_loja = {\n",
    "    'Loja 1': (produtos_loja1.head(3), produtos_loja1.tail(3)),\n",
    "    'Loja 2': (produtos_loja2.head(3), produtos_loja2.tail(3)),\n",
    "    'Loja 3': (produtos_loja3.head(3), produtos_loja3.tail(3)),\n",
    "    'Loja 4': (produtos_loja4.head(3), produtos_loja4.tail(3))\n",
    "}\n",
    "\n",
    "#Define as cores para cada categoria\n",
    "cores_top = '#7AB317'\n",
    "cores_flop = '#0D6759'\n",
    "\n",
    "#Cria uma figura com 4 subpolots (2 linhas e 2 colunas)\n",
    "fig, axs = plt.subplots(2, 2, figsize=(14, 10))\n",
    "axs = axs.flatten()\n",
    "\n",
    "#Loop que itera lista lojas\n",
    "for i, loja in enumerate(lojas):\n",
    "    top3, flop3 = produtos_por_loja[loja]\n",
    "\n",
    "    #Cria um dataframe com os 6 produtos\n",
    "    dados = pd.concat([top3, flop3])\n",
    "\n",
    "    #Plota os produtos mais vendidos\n",
    "    axs[i].barh(top3[\"Produto\"], top3[\"Quantidade\"], color=cores_top, label=\"Mais Vendidos\")\n",
    "    #Plota os produtos menos vendidos\n",
    "    axs[i].barh(flop3[\"Produto\"], flop3[\"Quantidade\"], color=cores_flop, label=\"Menos Vendidos\")\n",
    "\n",
    "    #Ajusta a parte visual do gráfico\n",
    "    axs[i].set_title(loja, fontsize=14)\n",
    "    axs[i].invert_yaxis()\n",
    "    axs[i].xaxis.set_visible(False)\n",
    "    axs[i].grid(False)\n",
    "    axs[i].spines['top'].set_visible(False)\n",
    "    axs[i].spines['right'].set_visible(False)\n",
    "    axs[i].spines['bottom'].set_visible(True)\n",
    "    axs[i].spines['left'].set_visible(True)\n",
    "\n",
    "    for j, v in enumerate(dados[\"Quantidade\"]):\n",
    "        axs[i].text(v + 5, j, str(v), va='center', fontsize=10)\n",
    "\n",
    "#Cria os patches para a legenda\n",
    "top_patch = mpatches.Patch(color=cores_top, label='Mais Vendidos')\n",
    "flop_patch = mpatches.Patch(color=cores_flop, label='Menos Vendidos')\n",
    "\n",
    "#Legenda única para a figura\n",
    "fig.legend(handles=[top_patch, flop_patch], title='Legenda', bbox_to_anchor=(0.5, -0.1), loc='lower center', ncol=3, fontsize=10)\n",
    "\n",
    "#Plota a figura com 4 gráficos\n",
    "fig.suptitle('Produtos Vendidos por Loja')\n",
    "plt.tight_layout(rect=[0, 0.01, 1, 0.95])\n",
    "plt.show()\n",
    "\n"
   ]
  },
  {
   "cell_type": "markdown",
   "metadata": {
    "id": "Fl0cGi3bZKqU"
   },
   "source": [
    "# 5. Frete Médio por Loja\n"
   ]
  },
  {
   "cell_type": "markdown",
   "metadata": {
    "id": "GtgQaSN6rox2"
   },
   "source": [
    "Cálculo dos valores médios de frete para cadaa loja."
   ]
  },
  {
   "cell_type": "code",
   "execution_count": 135,
   "metadata": {
    "colab": {
     "base_uri": "https://localhost:8080/"
    },
    "id": "S2JeaCykZNy9",
    "outputId": "eb347762-e18b-4154-dd93-0a7cc4b1af3d"
   },
   "outputs": [
    {
     "name": "stdout",
     "output_type": "stream",
     "text": [
      "O valor médio de frete da Loja 1 é: R$ 34.69\n",
      "O valor médio de frete da Loja 2 é: R$ 33.62\n",
      "O valor médio de frete da Loja 3 é: R$ 33.07\n",
      "O valor médio de frete da Loja 4 é: R$ 31.28\n"
     ]
    }
   ],
   "source": [
    "#Cria um dicionário para armazenar chave-valor\n",
    "lojas = {\n",
    "    'Loja 1': loja,\n",
    "    'Loja 2': loja2,\n",
    "    'Loja 3': loja3,\n",
    "    'Loja 4': loja4\n",
    "}\n",
    "\n",
    "#Loop para criar dataframe da loja\n",
    "for nome, dados in lojas.items():\n",
    "    frete_medio = round(dados['Frete'].sum() / len(dados['Frete']), 2)\n",
    "\n",
    "    print(f'O valor médio de frete da {nome} é: R$ {frete_medio}')"
   ]
  },
  {
   "cell_type": "code",
   "execution_count": 142,
   "metadata": {
    "colab": {
     "base_uri": "https://localhost:8080/",
     "height": 441
    },
    "id": "0tSdCie9ZQlt",
    "outputId": "20b03b3c-e714-43ed-bd62-e9a4a2995dd7"
   },
   "outputs": [
    {
     "data": {
      "image/png": "[encoded data removed]",
      "text/plain": [
       "<Figure size 800x500 with 1 Axes>"
      ]
     },
     "metadata": {},
     "output_type": "display_data"
    }
   ],
   "source": [
    "#Importa a biblioteca matplotlib\n",
    "import matplotlib.pyplot as plt\n",
    "\n",
    "lojas = ['Loja 1', 'Loja 2', 'Loja 3', 'Loja 4']\n",
    "medias = [34.69, 33.62, 33.07, 31.28]\n",
    "\n",
    "#Atribui uma cor diferente para a menor média\n",
    "menor_frete = min(medias)\n",
    "cores = ['#7AB317' if media != menor_frete else '#0D6759' for media in medias]\n",
    "\n",
    "#Criação do gráfico\n",
    "plt.figure(figsize=(8, 5))\n",
    "plt.bar(lojas, medias, color=cores)\n",
    "\n",
    "#Títulos e rótulos\n",
    "plt.title('Frete Médio por Loja')\n",
    "plt.ylabel('Valores Médios (R$)')\n",
    "\n",
    "for i, media in enumerate(medias):\n",
    "    plt.text(i, media, f'R${media}', ha='center', va='bottom', fontsize=12)\n",
    "\n",
    "#Bordas do gráfico\n",
    "plt.gca().spines['top'].set_visible(False)\n",
    "plt.gca().spines['right'].set_visible(False)\n",
    "plt.gca().spines['bottom'].set_visible(True)\n",
    "plt.gca().spines['left'].set_visible(True)\n",
    "\n",
    "plt.show()"
   ]
  },
  {
   "cell_type": "markdown",
   "metadata": {
    "id": "O2TDUs50y5uE"
   },
   "source": [
    "# Relatório\n",
    "\n",
    "---\n",
    "\n"
   ]
  },
  {
   "cell_type": "markdown",
   "metadata": {
    "id": "ftb1UQUEzVNZ"
   },
   "source": [
    "\n",
    "\n",
    "## 1.   Faturamento das lojas 💰\n",
    "\n",
    "\n"
   ]
  },
  {
   "cell_type": "markdown",
   "metadata": {
    "id": "JulCkimmz5dH"
   },
   "source": [
    "A partir da análise realizada para as quatro lojas da rede Challenge ETL Telecom Telecom, foi possível identificar que a `Loja 1` apresentou `maior` faturamento (`R$ 1.534.509,12`) no período analisado.\n",
    "Em contrapartida, a `Loja 4` apresentou o `menor` faturamento (`R$ 1.384.497,58`)."
   ]
  },
  {
   "cell_type": "markdown",
   "metadata": {
    "id": "ejW0T0yN2y6a"
   },
   "source": [
    "\n",
    "\n",
    "## 2.   Vendas por Categoria 📊\n",
    "\n",
    "\n"
   ]
  },
  {
   "cell_type": "markdown",
   "metadata": {
    "id": "7gPb_hY72y6a"
   },
   "source": [
    "Dentre as quatro lojas Challenge ETL Telecom Telecom foi possível identificar que há um padrão de compras, com a preferência por itens relacionados às categorias de móveis, eletrônicos brinquedos e eletrodomésticos, os quais  são considerados produtos que possuem maior valor agregado.\n",
    "Porém, também pode ser observado que na `Loja 4` há uma mudança de pedrão, em que a categoria que ocupa o 4º lugar em compras são os itens de esporte e lazer, os quais conferem um menor valor agregado, portanto, menor lucro em relação às demais.\n",
    "\n",
    "👉**Loja 1:**  \n",
    "\n",
    "*   1º Móveis (465 itens)\n",
    "*   2º Eletrônicos (448 itens)\n",
    "*   3º Brinquedos (324 itens)\n",
    "*   4º Eletrodomésticos (312 itens)\n",
    "*   5º Esporte e lazer (284 itens)\n",
    "*   6º Instrumentos musicais (182 itens)\n",
    "*   7º Livros (173 itens)\n",
    "*   8º Utilidades domésticas (171 itens)    \n",
    "\n",
    "👉**Loja 2:**  \n",
    "\n",
    "*   1º Móveis (442 itens)\n",
    "*   2º Eletrônicos (422 itens)\n",
    "*   3º Brinquedos (313 itens)\n",
    "*   4º Eletrodomésticos (305 itens)\n",
    "*   5º Esporte e lazer (275 itens)\n",
    "*   6º Instrumentos musicais (224 itens)\n",
    "*   7º Livros (197 itens)\n",
    "*   8º Utilidades domésticas (181 itens)\n",
    "\n",
    "👉**Loja 3:**  \n",
    "\n",
    "*   1º Móveis (499 itens)\n",
    "*   2º Eletrônicos (451 itens)\n",
    "*   3º Brinquedos (315 itens)\n",
    "*   4º Eletrodomésticos (278 itens)\n",
    "*   5º Esporte e lazer (277 itens)\n",
    "*   6º Livros (185 itens)\n",
    "*   7º Instrumentos musicais (177 itens)\n",
    "*   8º Utilidades domésticas (177 itens)\n",
    "\n",
    "👉**Loja 4:**  \n",
    "\n",
    "*   1º Móveis (480 itens)\n",
    "*   2º Eletrônicos (451 itens)\n",
    "*   3º Brinquedos (338 itens)\n",
    "*   4º Esporte e lazer (277 itens)\n",
    "*   5º Eletrodomésticos (254 itens)\n",
    "*   6º Utilidades domésticas (201 itens)\n",
    "*   7º Livros (187 itens)\n",
    "*   8º Instrumentos musicais (170 itens)\n"
   ]
  },
  {
   "cell_type": "markdown",
   "metadata": {
    "id": "Muinv2Ye-8lT"
   },
   "source": [
    "\n",
    "\n",
    "## 3.   Avaliação das Lojas ⭐\n",
    "\n"
   ]
  },
  {
   "cell_type": "markdown",
   "metadata": {
    "id": "t1_oHxOH_bps"
   },
   "source": [
    " Os valores médios de avaliação das quatro lojas foram muito próximos.\n",
    "\n",
    "\n",
    "\n",
    "*  ⬇ A `Loja 1` apresentou a **menor média de avaliação (3,98)**, ainda que o valor seja considerado uma nota satisfatória. Esse resultado pode estar relacionado a uma logística menos eficiente — como sugerido pelo frete médio mais alto — ou a falhas pontuais no pós-venda.\n",
    "*   ⬆ A `Loja 3` apresentou a **maior média de avaliação (4,05)**, o que pode indicar uma maior satisfação dos clientes, refletindo uma boa experiência de compra, qualidade dos produtos e eficiência no atendimento e na entrega.\n",
    "\n",
    "\n",
    "\n",
    "\n"
   ]
  },
  {
   "cell_type": "markdown",
   "metadata": {
    "id": "Sr18yEjJBj4J"
   },
   "source": [
    "\n",
    "\n",
    "## 4.   Produtos Mais e Menos Vendidos 📦\n",
    "\n"
   ]
  },
  {
   "cell_type": "markdown",
   "metadata": {
    "id": "C_O8_MVRBzve"
   },
   "source": [
    "**Loja 1**\n",
    "\n",
    "⬆Produtos mais vendidos:\n",
    "*   Secadora de roupas (214 unidades)\n",
    "*   TV LED UHD 4K (196 unidades)\n",
    "*   Cômoda (188 unidades)\n",
    "\n",
    "⬇Produtos menos vendidos:\n",
    "*   Dinossauro rex (94 unidades)\n",
    "*   Mochila (90 unidades)\n",
    "*   Celular ABXY (78 unidades)\n",
    "\n",
    "**Loja 2**\n",
    "\n",
    "⬆Produtos mais vendidos:\n",
    "*   Livro Iniciando em Programação (223 unidades)\n",
    "*   Celular Plus X42 (195 unidades)\n",
    "*   Violão (183 unidaade)\n",
    "\n",
    "⬇Produtos menos vendidos:\n",
    "*   Bicicleta (98 unidades)\n",
    "*   Jogo de copos (98 unidades)\n",
    "*   Mesa de jantar (89 unidades)\n",
    "\n",
    "**Loja 3**\n",
    "\n",
    "⬆Produtos mais vendidos:\n",
    "*   Bicicleta (191 unidades)\n",
    "*   Fogão (182 unidades)\n",
    "*   Jogo de tabuleiro (181 unidades)\n",
    "\n",
    "⬇Produtos menos vendidos:\n",
    "*   Guitarra (100 unidades)\n",
    "*   Smartwatch (100 unidades)\n",
    "*   TV LED UHD 4K (94 unidades)\n",
    "\n",
    "**Loja 4**\n",
    "\n",
    "⬆Produtos mais vendidos:\n",
    "*   Curso Dashboard Power BI (196 unidades)\n",
    "*   Cama box (195 unidades)\n",
    "*   Faqueiro (183 unidades)\n",
    "\n",
    "⬇Produtos menos vendidos:\n",
    "*   Guitarra (97 unidades)\n",
    "*   Smartwatch (93 unidades)\n",
    "*   Guarda-roupas (88 unidades)"
   ]
  },
  {
   "cell_type": "markdown",
   "metadata": {
    "id": "GQB25NIUFhyd"
   },
   "source": [
    "\n",
    "\n",
    "## 5.   Frete Médio 🚚\n",
    "\n"
   ]
  },
  {
   "cell_type": "markdown",
   "metadata": {
    "id": "4meTbLVuFhyi"
   },
   "source": [
    "\n",
    "**Loja 1: R$ 34.69**\n",
    "\n",
    "\n",
    "*   Maior custo total de frete e maior frete médio em comparação com as demais lojas;\n",
    "*   Cenário pode ser reflexo de um elevado volume de pedidos.\n",
    "\n",
    "**Loja 2: R$ 33.62**\n",
    "\n",
    "\n",
    "*   Custos totais e médios de frete ligeiramente inferiores aos da Loja 1;\n",
    "*   Volume de vendas similar, acompanhado de uma operação logística potencialmente mais otimizada.\n",
    "\n",
    "**Loja 3: R$ 33.07**\n",
    "\n",
    "*   Menor custo total de frete e o menor frete médio dentre as lojas analisadas, indicando uma maior eficiência logística;\n",
    "*   Resultado pode estar relacionado a fatores como planejamento de rotas aprimorado, maior volume de itens por pedido ou localização geográfica mais favorável.\n",
    "\n",
    "**Loja 4: R$ 31.28**\n",
    "\n",
    "*   Apresenta o menor custo total de frete e o menor frete médio, concomitantemente com o menor volume de vendas;\n",
    "*   Custos de frete reduzidos estão mais associados ao baixo volume de transações comerciais da loja do que a melhorias significativas na eficiência da sua logística.\n",
    "\n"
   ]
  },
  {
   "cell_type": "markdown",
   "metadata": {
    "id": "9HW67DP8IBWz"
   },
   "source": [
    "# Conclusão\n",
    "\n",
    "---\n",
    "\n"
   ]
  },
  {
   "cell_type": "markdown",
   "metadata": {
    "id": "THYc0_fzIHSM"
   },
   "source": [
    "*  **Loja Mais Vantajosa: Loja 1** 🏅 (Maior faturamento, bom desempenho nas categorias de alto valor, boa avaliação média e produtos com alta receita).\n",
    "*   **Loja Menos Vantajosa: Loja 4** ❌ (Menor faturamento, desempenho abaixo nas vendas gerais, avaliação média razoável e produtos com baixa receita).\n",
    "*  **Loja a ser Vendida pelo Sr. João: Loja 4** ❌ (Devido ao menor faturamento, baixo desempenho e falta de rentabilidade)."
   ]
  }
 ],
 "metadata": {
  "colab": {
   "collapsed_sections": [
    "RhEdWd9YUR6H",
    "X62IW3KFUIYm",
    "2V_vcAPzWZmR",
    "Rq6tU_xSY3jk",
    "Fl0cGi3bZKqU",
    "ftb1UQUEzVNZ",
    "ejW0T0yN2y6a",
    "Muinv2Ye-8lT",
    "Sr18yEjJBj4J"
   ],
   "include_colab_link": true,
   "provenance": []
  },
  "kernelspec": {
   "display_name": "Python 3",
   "name": "python3"
  },
  "language_info": {
   "name": "python"
  }
 },
 "nbformat": 4,
 "nbformat_minor": 0
}
